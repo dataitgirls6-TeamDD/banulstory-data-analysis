{
 "cells": [
  {
   "cell_type": "code",
   "execution_count": 9,
   "id": "a7510caa",
   "metadata": {},
   "outputs": [
    {
     "data": {
      "text/html": [
       "<div>\n",
       "<style scoped>\n",
       "    .dataframe tbody tr th:only-of-type {\n",
       "        vertical-align: middle;\n",
       "    }\n",
       "\n",
       "    .dataframe tbody tr th {\n",
       "        vertical-align: top;\n",
       "    }\n",
       "\n",
       "    .dataframe thead th {\n",
       "        text-align: right;\n",
       "    }\n",
       "</style>\n",
       "<table border=\"1\" class=\"dataframe\">\n",
       "  <thead>\n",
       "    <tr style=\"text-align: right;\">\n",
       "      <th></th>\n",
       "      <th>product_id</th>\n",
       "      <th>product_name</th>\n",
       "      <th>sumR_label</th>\n",
       "      <th>counting</th>\n",
       "      <th>sum_logpoint</th>\n",
       "      <th>difficulty</th>\n",
       "    </tr>\n",
       "  </thead>\n",
       "  <tbody>\n",
       "    <tr>\n",
       "      <th>0</th>\n",
       "      <td>M2184799</td>\n",
       "      <td>왕초보 식빵 수세미 뜨기</td>\n",
       "      <td>2635.0</td>\n",
       "      <td>4615.0</td>\n",
       "      <td>7351.155723</td>\n",
       "      <td>2.0</td>\n",
       "    </tr>\n",
       "    <tr>\n",
       "      <th>1</th>\n",
       "      <td>M2260245</td>\n",
       "      <td>코튼4 리얼 네트백</td>\n",
       "      <td>347.0</td>\n",
       "      <td>664.0</td>\n",
       "      <td>1016.482623</td>\n",
       "      <td>4.0</td>\n",
       "    </tr>\n",
       "    <tr>\n",
       "      <th>2</th>\n",
       "      <td>M3464759</td>\n",
       "      <td>코튼10 미니 스퀘어 가방</td>\n",
       "      <td>286.0</td>\n",
       "      <td>507.0</td>\n",
       "      <td>841.775168</td>\n",
       "      <td>1.0</td>\n",
       "    </tr>\n",
       "    <tr>\n",
       "      <th>3</th>\n",
       "      <td>NaN</td>\n",
       "      <td>하이소프트 수박바 에어팟 케이스</td>\n",
       "      <td>155.0</td>\n",
       "      <td>376.0</td>\n",
       "      <td>538.065448</td>\n",
       "      <td>3.0</td>\n",
       "    </tr>\n",
       "    <tr>\n",
       "      <th>4</th>\n",
       "      <td>M2260643</td>\n",
       "      <td>코튼4 네트 파우치 동영상 2개 분량</td>\n",
       "      <td>178.0</td>\n",
       "      <td>312.0</td>\n",
       "      <td>503.683038</td>\n",
       "      <td>4.0</td>\n",
       "    </tr>\n",
       "  </tbody>\n",
       "</table>\n",
       "</div>"
      ],
      "text/plain": [
       "  product_id          product_name  sumR_label  counting  sum_logpoint  \\\n",
       "0   M2184799         왕초보 식빵 수세미 뜨기      2635.0    4615.0   7351.155723   \n",
       "1   M2260245            코튼4 리얼 네트백       347.0     664.0   1016.482623   \n",
       "2   M3464759        코튼10 미니 스퀘어 가방       286.0     507.0    841.775168   \n",
       "3        NaN     하이소프트 수박바 에어팟 케이스       155.0     376.0    538.065448   \n",
       "4   M2260643  코튼4 네트 파우치 동영상 2개 분량       178.0     312.0    503.683038   \n",
       "\n",
       "   difficulty  \n",
       "0         2.0  \n",
       "1         4.0  \n",
       "2         1.0  \n",
       "3         3.0  \n",
       "4         4.0  "
      ]
     },
     "execution_count": 9,
     "metadata": {},
     "output_type": "execute_result"
    }
   ],
   "source": [
    "import pandas as pd\n",
    "\n",
    "df = pd.read_excel('리뷰_디자이너패키지_정규화.xlsx')\n",
    "df.head()"
   ]
  },
  {
   "cell_type": "code",
   "execution_count": 26,
   "id": "474319eb",
   "metadata": {},
   "outputs": [
    {
     "data": {
      "text/html": [
       "<div>\n",
       "<style scoped>\n",
       "    .dataframe tbody tr th:only-of-type {\n",
       "        vertical-align: middle;\n",
       "    }\n",
       "\n",
       "    .dataframe tbody tr th {\n",
       "        vertical-align: top;\n",
       "    }\n",
       "\n",
       "    .dataframe thead th {\n",
       "        text-align: right;\n",
       "    }\n",
       "</style>\n",
       "<table border=\"1\" class=\"dataframe\">\n",
       "  <thead>\n",
       "    <tr style=\"text-align: right;\">\n",
       "      <th></th>\n",
       "      <th>sumR_label</th>\n",
       "      <th>counting</th>\n",
       "      <th>sum_logpoint</th>\n",
       "      <th>difficulty</th>\n",
       "    </tr>\n",
       "  </thead>\n",
       "  <tbody>\n",
       "    <tr>\n",
       "      <th>count</th>\n",
       "      <td>49.000000</td>\n",
       "      <td>49.000000</td>\n",
       "      <td>49.000000</td>\n",
       "      <td>47.000000</td>\n",
       "    </tr>\n",
       "    <tr>\n",
       "      <th>mean</th>\n",
       "      <td>97.632653</td>\n",
       "      <td>177.551020</td>\n",
       "      <td>279.908229</td>\n",
       "      <td>3.127660</td>\n",
       "    </tr>\n",
       "    <tr>\n",
       "      <th>std</th>\n",
       "      <td>377.095627</td>\n",
       "      <td>661.509671</td>\n",
       "      <td>1053.335754</td>\n",
       "      <td>0.923533</td>\n",
       "    </tr>\n",
       "    <tr>\n",
       "      <th>min</th>\n",
       "      <td>1.000000</td>\n",
       "      <td>5.000000</td>\n",
       "      <td>6.516943</td>\n",
       "      <td>1.000000</td>\n",
       "    </tr>\n",
       "    <tr>\n",
       "      <th>25%</th>\n",
       "      <td>5.000000</td>\n",
       "      <td>9.000000</td>\n",
       "      <td>13.515697</td>\n",
       "      <td>3.000000</td>\n",
       "    </tr>\n",
       "    <tr>\n",
       "      <th>50%</th>\n",
       "      <td>16.000000</td>\n",
       "      <td>30.000000</td>\n",
       "      <td>48.614945</td>\n",
       "      <td>3.000000</td>\n",
       "    </tr>\n",
       "    <tr>\n",
       "      <th>75%</th>\n",
       "      <td>40.000000</td>\n",
       "      <td>82.000000</td>\n",
       "      <td>126.287560</td>\n",
       "      <td>4.000000</td>\n",
       "    </tr>\n",
       "    <tr>\n",
       "      <th>max</th>\n",
       "      <td>2635.000000</td>\n",
       "      <td>4615.000000</td>\n",
       "      <td>7351.155723</td>\n",
       "      <td>5.000000</td>\n",
       "    </tr>\n",
       "  </tbody>\n",
       "</table>\n",
       "</div>"
      ],
      "text/plain": [
       "        sumR_label     counting  sum_logpoint  difficulty\n",
       "count    49.000000    49.000000     49.000000   47.000000\n",
       "mean     97.632653   177.551020    279.908229    3.127660\n",
       "std     377.095627   661.509671   1053.335754    0.923533\n",
       "min       1.000000     5.000000      6.516943    1.000000\n",
       "25%       5.000000     9.000000     13.515697    3.000000\n",
       "50%      16.000000    30.000000     48.614945    3.000000\n",
       "75%      40.000000    82.000000    126.287560    4.000000\n",
       "max    2635.000000  4615.000000   7351.155723    5.000000"
      ]
     },
     "execution_count": 26,
     "metadata": {},
     "output_type": "execute_result"
    }
   ],
   "source": [
    "df.describe()"
   ]
  },
  {
   "cell_type": "markdown",
   "id": "3eb5e750",
   "metadata": {},
   "source": [
    "# 데이터 분포 확인"
   ]
  },
  {
   "cell_type": "code",
   "execution_count": 25,
   "id": "34d88ca4",
   "metadata": {},
   "outputs": [
    {
     "name": "stderr",
     "output_type": "stream",
     "text": [
      "C:\\Users\\rkack\\anaconda3\\lib\\site-packages\\seaborn\\_decorators.py:36: FutureWarning: Pass the following variable as a keyword arg: x. From version 0.12, the only valid positional argument will be `data`, and passing other arguments without an explicit keyword will result in an error or misinterpretation.\n",
      "  warnings.warn(\n",
      "C:\\Users\\rkack\\anaconda3\\lib\\site-packages\\seaborn\\_decorators.py:36: FutureWarning: Pass the following variable as a keyword arg: x. From version 0.12, the only valid positional argument will be `data`, and passing other arguments without an explicit keyword will result in an error or misinterpretation.\n",
      "  warnings.warn(\n"
     ]
    },
    {
     "data": {
      "text/plain": [
       "<AxesSubplot:xlabel='sum_logpoint'>"
      ]
     },
     "execution_count": 25,
     "metadata": {},
     "output_type": "execute_result"
    },
    {
     "data": {
      "image/png": "[encoded data removed]",
      "text/plain": [
       "<Figure size 1008x288 with 2 Axes>"
      ]
     },
     "metadata": {
      "needs_background": "light"
     },
     "output_type": "display_data"
    }
   ],
   "source": [
    "import seaborn as sns\n",
    "import matplotlib.pyplot as plt\n",
    "\n",
    "fig, ax = plt.subplots(ncols=2, figsize=(14, 4))\n",
    "sns.boxplot(df['sumR_label'], ax=ax[0])\n",
    "sns.boxplot(df['sum_logpoint'], ax=ax[1])"
   ]
  },
  {
   "cell_type": "markdown",
   "id": "0bc34407",
   "metadata": {},
   "source": [
    "sumR_label과 sum_logpoint에서 가장 오른쪽에 위치한 이상치를 제거"
   ]
  },
  {
   "cell_type": "code",
   "execution_count": 28,
   "id": "76e2d1c8",
   "metadata": {},
   "outputs": [
    {
     "data": {
      "text/html": [
       "<div>\n",
       "<style scoped>\n",
       "    .dataframe tbody tr th:only-of-type {\n",
       "        vertical-align: middle;\n",
       "    }\n",
       "\n",
       "    .dataframe tbody tr th {\n",
       "        vertical-align: top;\n",
       "    }\n",
       "\n",
       "    .dataframe thead th {\n",
       "        text-align: right;\n",
       "    }\n",
       "</style>\n",
       "<table border=\"1\" class=\"dataframe\">\n",
       "  <thead>\n",
       "    <tr style=\"text-align: right;\">\n",
       "      <th></th>\n",
       "      <th>product_id</th>\n",
       "      <th>product_name</th>\n",
       "      <th>sumR_label</th>\n",
       "      <th>counting</th>\n",
       "      <th>sum_logpoint</th>\n",
       "      <th>difficulty</th>\n",
       "    </tr>\n",
       "  </thead>\n",
       "  <tbody>\n",
       "    <tr>\n",
       "      <th>1</th>\n",
       "      <td>M2260245</td>\n",
       "      <td>코튼4 리얼 네트백</td>\n",
       "      <td>347.0</td>\n",
       "      <td>664.0</td>\n",
       "      <td>1016.482623</td>\n",
       "      <td>4.0</td>\n",
       "    </tr>\n",
       "    <tr>\n",
       "      <th>2</th>\n",
       "      <td>M3464759</td>\n",
       "      <td>코튼10 미니 스퀘어 가방</td>\n",
       "      <td>286.0</td>\n",
       "      <td>507.0</td>\n",
       "      <td>841.775168</td>\n",
       "      <td>1.0</td>\n",
       "    </tr>\n",
       "    <tr>\n",
       "      <th>3</th>\n",
       "      <td>NaN</td>\n",
       "      <td>하이소프트 수박바 에어팟 케이스</td>\n",
       "      <td>155.0</td>\n",
       "      <td>376.0</td>\n",
       "      <td>538.065448</td>\n",
       "      <td>3.0</td>\n",
       "    </tr>\n",
       "    <tr>\n",
       "      <th>4</th>\n",
       "      <td>M2260643</td>\n",
       "      <td>코튼4 네트 파우치 동영상 2개 분량</td>\n",
       "      <td>178.0</td>\n",
       "      <td>312.0</td>\n",
       "      <td>503.683038</td>\n",
       "      <td>4.0</td>\n",
       "    </tr>\n",
       "    <tr>\n",
       "      <th>5</th>\n",
       "      <td>M2222822</td>\n",
       "      <td>하이소프트 왕눈이 괴물 에어팟 케이스</td>\n",
       "      <td>149.0</td>\n",
       "      <td>274.0</td>\n",
       "      <td>429.229314</td>\n",
       "      <td>3.0</td>\n",
       "    </tr>\n",
       "  </tbody>\n",
       "</table>\n",
       "</div>"
      ],
      "text/plain": [
       "  product_id          product_name  sumR_label  counting  sum_logpoint  \\\n",
       "1   M2260245            코튼4 리얼 네트백       347.0     664.0   1016.482623   \n",
       "2   M3464759        코튼10 미니 스퀘어 가방       286.0     507.0    841.775168   \n",
       "3        NaN     하이소프트 수박바 에어팟 케이스       155.0     376.0    538.065448   \n",
       "4   M2260643  코튼4 네트 파우치 동영상 2개 분량       178.0     312.0    503.683038   \n",
       "5   M2222822  하이소프트 왕눈이 괴물 에어팟 케이스       149.0     274.0    429.229314   \n",
       "\n",
       "   difficulty  \n",
       "1         4.0  \n",
       "2         1.0  \n",
       "3         3.0  \n",
       "4         4.0  \n",
       "5         3.0  "
      ]
     },
     "execution_count": 28,
     "metadata": {},
     "output_type": "execute_result"
    }
   ],
   "source": [
    "# df의 첫 번째 행이 sumR_label과 sum_logpoint의 max 값을 가지고 있으므로 이상치를 제거하여 df2 생성\n",
    "df2 = df[1:]\n",
    "df2.head()"
   ]
  },
  {
   "cell_type": "markdown",
   "id": "9bb60abe",
   "metadata": {},
   "source": [
    "# 이상치 제거 후 데이터 분포 확인"
   ]
  },
  {
   "cell_type": "code",
   "execution_count": 33,
   "id": "0fd90ce1",
   "metadata": {},
   "outputs": [
    {
     "name": "stderr",
     "output_type": "stream",
     "text": [
      "C:\\Users\\rkack\\anaconda3\\lib\\site-packages\\seaborn\\_decorators.py:36: FutureWarning: Pass the following variable as a keyword arg: x. From version 0.12, the only valid positional argument will be `data`, and passing other arguments without an explicit keyword will result in an error or misinterpretation.\n",
      "  warnings.warn(\n",
      "C:\\Users\\rkack\\anaconda3\\lib\\site-packages\\seaborn\\_decorators.py:36: FutureWarning: Pass the following variable as a keyword arg: x. From version 0.12, the only valid positional argument will be `data`, and passing other arguments without an explicit keyword will result in an error or misinterpretation.\n",
      "  warnings.warn(\n"
     ]
    },
    {
     "data": {
      "text/plain": [
       "<AxesSubplot:xlabel='sum_logpoint'>"
      ]
     },
     "execution_count": 33,
     "metadata": {},
     "output_type": "execute_result"
    },
    {
     "data": {
      "image/png": "[encoded data removed]",
      "text/plain": [
       "<Figure size 1008x288 with 2 Axes>"
      ]
     },
     "metadata": {
      "needs_background": "light"
     },
     "output_type": "display_data"
    }
   ],
   "source": [
    "import seaborn as sns\n",
    "import matplotlib.pyplot as plt\n",
    "\n",
    "fig, ax = plt.subplots(ncols=2, figsize=(14, 4))\n",
    "sns.boxplot(df2['sumR_label'], ax=ax[0])\n",
    "sns.boxplot(df2['sum_logpoint'], ax=ax[1])"
   ]
  },
  {
   "cell_type": "code",
   "execution_count": 31,
   "id": "053c4573",
   "metadata": {},
   "outputs": [
    {
     "data": {
      "text/html": [
       "<div>\n",
       "<style scoped>\n",
       "    .dataframe tbody tr th:only-of-type {\n",
       "        vertical-align: middle;\n",
       "    }\n",
       "\n",
       "    .dataframe tbody tr th {\n",
       "        vertical-align: top;\n",
       "    }\n",
       "\n",
       "    .dataframe thead th {\n",
       "        text-align: right;\n",
       "    }\n",
       "</style>\n",
       "<table border=\"1\" class=\"dataframe\">\n",
       "  <thead>\n",
       "    <tr style=\"text-align: right;\">\n",
       "      <th></th>\n",
       "      <th>norm_sumR</th>\n",
       "      <th>norm_logpoint</th>\n",
       "    </tr>\n",
       "  </thead>\n",
       "  <tbody>\n",
       "    <tr>\n",
       "      <th>0</th>\n",
       "      <td>9.822222</td>\n",
       "      <td>9.143302</td>\n",
       "    </tr>\n",
       "    <tr>\n",
       "      <th>1</th>\n",
       "      <td>8.014815</td>\n",
       "      <td>7.496094</td>\n",
       "    </tr>\n",
       "    <tr>\n",
       "      <th>2</th>\n",
       "      <td>4.133333</td>\n",
       "      <td>4.632603</td>\n",
       "    </tr>\n",
       "    <tr>\n",
       "      <th>3</th>\n",
       "      <td>4.814815</td>\n",
       "      <td>4.308432</td>\n",
       "    </tr>\n",
       "    <tr>\n",
       "      <th>4</th>\n",
       "      <td>3.955556</td>\n",
       "      <td>3.606454</td>\n",
       "    </tr>\n",
       "  </tbody>\n",
       "</table>\n",
       "</div>"
      ],
      "text/plain": [
       "   norm_sumR  norm_logpoint\n",
       "0   9.822222       9.143302\n",
       "1   8.014815       7.496094\n",
       "2   4.133333       4.632603\n",
       "3   4.814815       4.308432\n",
       "4   3.955556       3.606454"
      ]
     },
     "execution_count": 31,
     "metadata": {},
     "output_type": "execute_result"
    }
   ],
   "source": [
    "# sklearn.preprocessing을 통한 정규화\n",
    "from sklearn.preprocessing import StandardScaler, RobustScaler\n",
    "import pandas as pd\n",
    "\n",
    "# sumR과 counting 열만 정규화\n",
    "## Robust 정규화:\n",
    "r_data=RobustScaler().fit_transform(df2[['sumR_label', 'sum_logpoint']]) \n",
    "# 정규화한 데이터\n",
    "r_df = pd.DataFrame(r_data, columns=['norm_sumR', 'norm_logpoint'])\n",
    "r_df.head()"
   ]
  },
  {
   "cell_type": "code",
   "execution_count": 32,
   "id": "90a50dc2",
   "metadata": {},
   "outputs": [
    {
     "data": {
      "text/html": [
       "<div>\n",
       "<style scoped>\n",
       "    .dataframe tbody tr th:only-of-type {\n",
       "        vertical-align: middle;\n",
       "    }\n",
       "\n",
       "    .dataframe tbody tr th {\n",
       "        vertical-align: top;\n",
       "    }\n",
       "\n",
       "    .dataframe thead th {\n",
       "        text-align: right;\n",
       "    }\n",
       "</style>\n",
       "<table border=\"1\" class=\"dataframe\">\n",
       "  <thead>\n",
       "    <tr style=\"text-align: right;\">\n",
       "      <th></th>\n",
       "      <th>norm_sumR</th>\n",
       "      <th>norm_logpoint</th>\n",
       "    </tr>\n",
       "  </thead>\n",
       "  <tbody>\n",
       "    <tr>\n",
       "      <th>0</th>\n",
       "      <td>4.160519</td>\n",
       "      <td>4.116959</td>\n",
       "    </tr>\n",
       "    <tr>\n",
       "      <th>1</th>\n",
       "      <td>3.320787</td>\n",
       "      <td>3.303213</td>\n",
       "    </tr>\n",
       "    <tr>\n",
       "      <th>2</th>\n",
       "      <td>1.517427</td>\n",
       "      <td>1.888605</td>\n",
       "    </tr>\n",
       "    <tr>\n",
       "      <th>3</th>\n",
       "      <td>1.834047</td>\n",
       "      <td>1.728460</td>\n",
       "    </tr>\n",
       "    <tr>\n",
       "      <th>4</th>\n",
       "      <td>1.434830</td>\n",
       "      <td>1.381673</td>\n",
       "    </tr>\n",
       "  </tbody>\n",
       "</table>\n",
       "</div>"
      ],
      "text/plain": [
       "   norm_sumR  norm_logpoint\n",
       "0   4.160519       4.116959\n",
       "1   3.320787       3.303213\n",
       "2   1.517427       1.888605\n",
       "3   1.834047       1.728460\n",
       "4   1.434830       1.381673"
      ]
     },
     "execution_count": 32,
     "metadata": {},
     "output_type": "execute_result"
    }
   ],
   "source": [
    "## Standard 정규화\n",
    "s_data=StandardScaler().fit_transform(df2[['sumR_label', 'sum_logpoint']]) \n",
    "# 정규화한 데이터\n",
    "s_df = pd.DataFrame(s_data, columns=['norm_sumR', 'norm_logpoint'])\n",
    "s_df.head()"
   ]
  },
  {
   "cell_type": "markdown",
   "id": "6ecb8e54",
   "metadata": {},
   "source": [
    "# Robust 정규화 수행 vs. Standard 정규화 수행"
   ]
  },
  {
   "cell_type": "code",
   "execution_count": 36,
   "id": "2b9be682",
   "metadata": {},
   "outputs": [
    {
     "name": "stderr",
     "output_type": "stream",
     "text": [
      "C:\\Users\\rkack\\anaconda3\\lib\\site-packages\\seaborn\\distributions.py:2619: FutureWarning: `distplot` is a deprecated function and will be removed in a future version. Please adapt your code to use either `displot` (a figure-level function with similar flexibility) or `histplot` (an axes-level function for histograms).\n",
      "  warnings.warn(msg, FutureWarning)\n",
      "C:\\Users\\rkack\\anaconda3\\lib\\site-packages\\seaborn\\distributions.py:2619: FutureWarning: `distplot` is a deprecated function and will be removed in a future version. Please adapt your code to use either `displot` (a figure-level function with similar flexibility) or `histplot` (an axes-level function for histograms).\n",
      "  warnings.warn(msg, FutureWarning)\n"
     ]
    },
    {
     "data": {
      "text/plain": [
       "<AxesSubplot:xlabel='norm_sumR', ylabel='Density'>"
      ]
     },
     "execution_count": 36,
     "metadata": {},
     "output_type": "execute_result"
    },
    {
     "data": {
      "image/png": "[encoded data removed]",
      "text/plain": [
       "<Figure size 1008x288 with 2 Axes>"
      ]
     },
     "metadata": {
      "needs_background": "light"
     },
     "output_type": "display_data"
    }
   ],
   "source": [
    "## Robust 정규화를 시행한 norm_sumR의 distplot과 Standard 정규화를 시행한 norm_sumR의 distplot\n",
    "\n",
    "fig, ax = plt.subplots(ncols=2, figsize=(14, 4))\n",
    "sns.distplot(r_df['norm_sumR'], ax=ax[0]) # Robust 정규화 \n",
    "sns.distplot(s_df['norm_sumR'], ax=ax[1]) # Standard 정규화"
   ]
  },
  {
   "cell_type": "code",
   "execution_count": 37,
   "id": "cbcb03ea",
   "metadata": {},
   "outputs": [
    {
     "name": "stderr",
     "output_type": "stream",
     "text": [
      "C:\\Users\\rkack\\anaconda3\\lib\\site-packages\\seaborn\\distributions.py:2619: FutureWarning: `distplot` is a deprecated function and will be removed in a future version. Please adapt your code to use either `displot` (a figure-level function with similar flexibility) or `histplot` (an axes-level function for histograms).\n",
      "  warnings.warn(msg, FutureWarning)\n",
      "C:\\Users\\rkack\\anaconda3\\lib\\site-packages\\seaborn\\distributions.py:2619: FutureWarning: `distplot` is a deprecated function and will be removed in a future version. Please adapt your code to use either `displot` (a figure-level function with similar flexibility) or `histplot` (an axes-level function for histograms).\n",
      "  warnings.warn(msg, FutureWarning)\n"
     ]
    },
    {
     "data": {
      "text/plain": [
       "<AxesSubplot:xlabel='norm_logpoint', ylabel='Density'>"
      ]
     },
     "execution_count": 37,
     "metadata": {},
     "output_type": "execute_result"
    },
    {
     "data": {
      "image/png": "[encoded data removed]",
      "text/plain": [
       "<Figure size 1008x288 with 2 Axes>"
      ]
     },
     "metadata": {
      "needs_background": "light"
     },
     "output_type": "display_data"
    }
   ],
   "source": [
    "## Robust 정규화를 시행한 norm_logpoint의 distplot과 Standard 정규화를 시행한 norm_logpoint의 distplot\n",
    "\n",
    "fig, ax = plt.subplots(ncols=2, figsize=(14, 4))\n",
    "sns.distplot(r_df['norm_logpoint'], ax=ax[0]) # Robust 정규화 \n",
    "sns.distplot(s_df['norm_logpoint'], ax=ax[1]) # Standard 정규화"
   ]
  },
  {
   "cell_type": "markdown",
   "id": "370993df",
   "metadata": {},
   "source": [
    " Robust 정규화를 수행한 결과와 Standard 정규화를 수행한 결과에 큰 차이가 없기에 이상치에 강한 RobustScaler 사용함"
   ]
  },
  {
   "cell_type": "code",
   "execution_count": 42,
   "id": "e01bea2f",
   "metadata": {},
   "outputs": [
    {
     "data": {
      "text/html": [
       "<div>\n",
       "<style scoped>\n",
       "    .dataframe tbody tr th:only-of-type {\n",
       "        vertical-align: middle;\n",
       "    }\n",
       "\n",
       "    .dataframe tbody tr th {\n",
       "        vertical-align: top;\n",
       "    }\n",
       "\n",
       "    .dataframe thead th {\n",
       "        text-align: right;\n",
       "    }\n",
       "</style>\n",
       "<table border=\"1\" class=\"dataframe\">\n",
       "  <thead>\n",
       "    <tr style=\"text-align: right;\">\n",
       "      <th></th>\n",
       "      <th>product_id</th>\n",
       "      <th>product_name</th>\n",
       "      <th>norm_sumR</th>\n",
       "      <th>norm_logpoint</th>\n",
       "      <th>difficulty</th>\n",
       "    </tr>\n",
       "  </thead>\n",
       "  <tbody>\n",
       "    <tr>\n",
       "      <th>1</th>\n",
       "      <td>M2260245</td>\n",
       "      <td>코튼4 리얼 네트백</td>\n",
       "      <td>8.014815</td>\n",
       "      <td>7.496094</td>\n",
       "      <td>4.0</td>\n",
       "    </tr>\n",
       "    <tr>\n",
       "      <th>2</th>\n",
       "      <td>M3464759</td>\n",
       "      <td>코튼10 미니 스퀘어 가방</td>\n",
       "      <td>4.133333</td>\n",
       "      <td>4.632603</td>\n",
       "      <td>1.0</td>\n",
       "    </tr>\n",
       "    <tr>\n",
       "      <th>3</th>\n",
       "      <td>NaN</td>\n",
       "      <td>하이소프트 수박바 에어팟 케이스</td>\n",
       "      <td>4.814815</td>\n",
       "      <td>4.308432</td>\n",
       "      <td>3.0</td>\n",
       "    </tr>\n",
       "    <tr>\n",
       "      <th>4</th>\n",
       "      <td>M2260643</td>\n",
       "      <td>코튼4 네트 파우치 동영상 2개 분량</td>\n",
       "      <td>3.955556</td>\n",
       "      <td>3.606454</td>\n",
       "      <td>4.0</td>\n",
       "    </tr>\n",
       "    <tr>\n",
       "      <th>5</th>\n",
       "      <td>M2222822</td>\n",
       "      <td>하이소프트 왕눈이 괴물 에어팟 케이스</td>\n",
       "      <td>3.451852</td>\n",
       "      <td>3.472832</td>\n",
       "      <td>3.0</td>\n",
       "    </tr>\n",
       "  </tbody>\n",
       "</table>\n",
       "</div>"
      ],
      "text/plain": [
       "  product_id          product_name  norm_sumR  norm_logpoint  difficulty\n",
       "1   M2260245            코튼4 리얼 네트백   8.014815       7.496094         4.0\n",
       "2   M3464759        코튼10 미니 스퀘어 가방   4.133333       4.632603         1.0\n",
       "3        NaN     하이소프트 수박바 에어팟 케이스   4.814815       4.308432         3.0\n",
       "4   M2260643  코튼4 네트 파우치 동영상 2개 분량   3.955556       3.606454         4.0\n",
       "5   M2222822  하이소프트 왕눈이 괴물 에어팟 케이스   3.451852       3.472832         3.0"
      ]
     },
     "execution_count": 42,
     "metadata": {},
     "output_type": "execute_result"
    }
   ],
   "source": [
    "result = pd.concat([df2[['product_id', 'product_name']],r_df, df2['difficulty']], axis=1)\n",
    "result.head()"
   ]
  },
  {
   "cell_type": "code",
   "execution_count": 43,
   "id": "0cc3cc42",
   "metadata": {},
   "outputs": [
    {
     "data": {
      "text/html": [
       "<div>\n",
       "<style scoped>\n",
       "    .dataframe tbody tr th:only-of-type {\n",
       "        vertical-align: middle;\n",
       "    }\n",
       "\n",
       "    .dataframe tbody tr th {\n",
       "        vertical-align: top;\n",
       "    }\n",
       "\n",
       "    .dataframe thead th {\n",
       "        text-align: right;\n",
       "    }\n",
       "</style>\n",
       "<table border=\"1\" class=\"dataframe\">\n",
       "  <thead>\n",
       "    <tr style=\"text-align: right;\">\n",
       "      <th></th>\n",
       "      <th>product_id</th>\n",
       "      <th>product_name</th>\n",
       "      <th>norm_sumR</th>\n",
       "      <th>norm_logpoint</th>\n",
       "      <th>difficulty</th>\n",
       "    </tr>\n",
       "  </thead>\n",
       "  <tbody>\n",
       "    <tr>\n",
       "      <th>2</th>\n",
       "      <td>M3464759</td>\n",
       "      <td>코튼10 미니 스퀘어 가방</td>\n",
       "      <td>4.133333</td>\n",
       "      <td>4.632603</td>\n",
       "      <td>1.0</td>\n",
       "    </tr>\n",
       "    <tr>\n",
       "      <th>3</th>\n",
       "      <td>NaN</td>\n",
       "      <td>하이소프트 수박바 에어팟 케이스</td>\n",
       "      <td>4.814815</td>\n",
       "      <td>4.308432</td>\n",
       "      <td>3.0</td>\n",
       "    </tr>\n",
       "    <tr>\n",
       "      <th>5</th>\n",
       "      <td>M2222822</td>\n",
       "      <td>하이소프트 왕눈이 괴물 에어팟 케이스</td>\n",
       "      <td>3.451852</td>\n",
       "      <td>3.472832</td>\n",
       "      <td>3.0</td>\n",
       "    </tr>\n",
       "    <tr>\n",
       "      <th>6</th>\n",
       "      <td>M3381177</td>\n",
       "      <td>하이버블 계란후라이 수세미</td>\n",
       "      <td>3.600000</td>\n",
       "      <td>2.949483</td>\n",
       "      <td>2.0</td>\n",
       "    </tr>\n",
       "    <tr>\n",
       "      <th>7</th>\n",
       "      <td>M2263181</td>\n",
       "      <td>코바늘 마스터 세트 코바늘 뜨개질 입문자를 위한 모든 재료도안동영상 포함</td>\n",
       "      <td>2.088889</td>\n",
       "      <td>1.983682</td>\n",
       "      <td>3.0</td>\n",
       "    </tr>\n",
       "  </tbody>\n",
       "</table>\n",
       "</div>"
      ],
      "text/plain": [
       "  product_id                              product_name  norm_sumR  \\\n",
       "2   M3464759                            코튼10 미니 스퀘어 가방   4.133333   \n",
       "3        NaN                         하이소프트 수박바 에어팟 케이스   4.814815   \n",
       "5   M2222822                      하이소프트 왕눈이 괴물 에어팟 케이스   3.451852   \n",
       "6   M3381177                            하이버블 계란후라이 수세미   3.600000   \n",
       "7   M2263181  코바늘 마스터 세트 코바늘 뜨개질 입문자를 위한 모든 재료도안동영상 포함   2.088889   \n",
       "\n",
       "   norm_logpoint  difficulty  \n",
       "2       4.632603         1.0  \n",
       "3       4.308432         3.0  \n",
       "5       3.472832         3.0  \n",
       "6       2.949483         2.0  \n",
       "7       1.983682         3.0  "
      ]
     },
     "execution_count": 43,
     "metadata": {},
     "output_type": "execute_result"
    }
   ],
   "source": [
    "result3 = result[result['difficulty']<=3]\n",
    "result3.head()"
   ]
  },
  {
   "cell_type": "code",
   "execution_count": 41,
   "id": "2cdc3798",
   "metadata": {},
   "outputs": [
    {
     "data": {
      "text/html": [
       "<div>\n",
       "<style scoped>\n",
       "    .dataframe tbody tr th:only-of-type {\n",
       "        vertical-align: middle;\n",
       "    }\n",
       "\n",
       "    .dataframe tbody tr th {\n",
       "        vertical-align: top;\n",
       "    }\n",
       "\n",
       "    .dataframe thead th {\n",
       "        text-align: right;\n",
       "    }\n",
       "</style>\n",
       "<table border=\"1\" class=\"dataframe\">\n",
       "  <thead>\n",
       "    <tr style=\"text-align: right;\">\n",
       "      <th></th>\n",
       "      <th>product_id</th>\n",
       "      <th>product_name</th>\n",
       "      <th>norm_sumR</th>\n",
       "      <th>norm_logpoint</th>\n",
       "      <th>difficulty</th>\n",
       "    </tr>\n",
       "  </thead>\n",
       "  <tbody>\n",
       "    <tr>\n",
       "      <th>1</th>\n",
       "      <td>M2260245</td>\n",
       "      <td>코튼4 리얼 네트백</td>\n",
       "      <td>8.014815</td>\n",
       "      <td>7.496094</td>\n",
       "      <td>4.0</td>\n",
       "    </tr>\n",
       "    <tr>\n",
       "      <th>4</th>\n",
       "      <td>M2260643</td>\n",
       "      <td>코튼4 네트 파우치 동영상 2개 분량</td>\n",
       "      <td>3.955556</td>\n",
       "      <td>3.606454</td>\n",
       "      <td>4.0</td>\n",
       "    </tr>\n",
       "    <tr>\n",
       "      <th>13</th>\n",
       "      <td>M2165765</td>\n",
       "      <td>하이소프트 4ply LOVE 선인장</td>\n",
       "      <td>0.459259</td>\n",
       "      <td>0.353200</td>\n",
       "      <td>4.0</td>\n",
       "    </tr>\n",
       "    <tr>\n",
       "      <th>16</th>\n",
       "      <td>M2252537</td>\n",
       "      <td>돌핀 솔리드  돌핀 솔리드 가방\\n</td>\n",
       "      <td>0.459259</td>\n",
       "      <td>0.310193</td>\n",
       "      <td>4.0</td>\n",
       "    </tr>\n",
       "    <tr>\n",
       "      <th>17</th>\n",
       "      <td>M10337573</td>\n",
       "      <td>코튼10 머메이드 백</td>\n",
       "      <td>0.370370</td>\n",
       "      <td>0.261542</td>\n",
       "      <td>4.0</td>\n",
       "    </tr>\n",
       "  </tbody>\n",
       "</table>\n",
       "</div>"
      ],
      "text/plain": [
       "   product_id          product_name  norm_sumR  norm_logpoint  difficulty\n",
       "1    M2260245            코튼4 리얼 네트백   8.014815       7.496094         4.0\n",
       "4    M2260643  코튼4 네트 파우치 동영상 2개 분량   3.955556       3.606454         4.0\n",
       "13   M2165765   하이소프트 4ply LOVE 선인장   0.459259       0.353200         4.0\n",
       "16   M2252537   돌핀 솔리드  돌핀 솔리드 가방\\n   0.459259       0.310193         4.0\n",
       "17  M10337573           코튼10 머메이드 백   0.370370       0.261542         4.0"
      ]
     },
     "execution_count": 41,
     "metadata": {},
     "output_type": "execute_result"
    }
   ],
   "source": [
    "result5 = result[(result['difficulty']>3)&(result['difficulty']<=5)]\n",
    "result5.head()"
   ]
  },
  {
   "cell_type": "code",
   "execution_count": 46,
   "id": "084fdf31",
   "metadata": {},
   "outputs": [
    {
     "data": {
      "text/html": [
       "<div>\n",
       "<style scoped>\n",
       "    .dataframe tbody tr th:only-of-type {\n",
       "        vertical-align: middle;\n",
       "    }\n",
       "\n",
       "    .dataframe tbody tr th {\n",
       "        vertical-align: top;\n",
       "    }\n",
       "\n",
       "    .dataframe thead th {\n",
       "        text-align: right;\n",
       "    }\n",
       "</style>\n",
       "<table border=\"1\" class=\"dataframe\">\n",
       "  <thead>\n",
       "    <tr style=\"text-align: right;\">\n",
       "      <th></th>\n",
       "      <th>T</th>\n",
       "      <th>dof</th>\n",
       "      <th>alternative</th>\n",
       "      <th>p-val</th>\n",
       "      <th>CI95%</th>\n",
       "      <th>cohen-d</th>\n",
       "      <th>BF10</th>\n",
       "      <th>power</th>\n",
       "    </tr>\n",
       "  </thead>\n",
       "  <tbody>\n",
       "    <tr>\n",
       "      <th>T-test</th>\n",
       "      <td>-0.455204</td>\n",
       "      <td>13.78751</td>\n",
       "      <td>two-sided</td>\n",
       "      <td>0.656048</td>\n",
       "      <td>[-2.0, 1.3]</td>\n",
       "      <td>0.195639</td>\n",
       "      <td>0.352</td>\n",
       "      <td>0.087635</td>\n",
       "    </tr>\n",
       "  </tbody>\n",
       "</table>\n",
       "</div>"
      ],
      "text/plain": [
       "               T       dof alternative     p-val        CI95%   cohen-d  \\\n",
       "T-test -0.455204  13.78751   two-sided  0.656048  [-2.0, 1.3]  0.195639   \n",
       "\n",
       "         BF10     power  \n",
       "T-test  0.352  0.087635  "
      ]
     },
     "execution_count": 46,
     "metadata": {},
     "output_type": "execute_result"
    }
   ],
   "source": [
    "# 두 집단의 평균에 대한 t검정\n",
    "import pingouin as pg\n",
    "\n",
    "pg.ttest(result3['norm_sumR'], result5['norm_sumR'], confidence=0.95) \n",
    "# H0: 두 집단(1~3점, 4~5점으로 분류된)의 제품 당 유의미한 리뷰의 수(카테고리 분류한 단어의 합)의 차이가 없다\n",
    "# 난이도 분류에 따른 리뷰 내용 품질은 차이가 있다고 할 수 없다."
   ]
  },
  {
   "cell_type": "code",
   "execution_count": 47,
   "id": "3b7f0fce",
   "metadata": {},
   "outputs": [
    {
     "data": {
      "text/html": [
       "<div>\n",
       "<style scoped>\n",
       "    .dataframe tbody tr th:only-of-type {\n",
       "        vertical-align: middle;\n",
       "    }\n",
       "\n",
       "    .dataframe tbody tr th {\n",
       "        vertical-align: top;\n",
       "    }\n",
       "\n",
       "    .dataframe thead th {\n",
       "        text-align: right;\n",
       "    }\n",
       "</style>\n",
       "<table border=\"1\" class=\"dataframe\">\n",
       "  <thead>\n",
       "    <tr style=\"text-align: right;\">\n",
       "      <th></th>\n",
       "      <th>T</th>\n",
       "      <th>dof</th>\n",
       "      <th>alternative</th>\n",
       "      <th>p-val</th>\n",
       "      <th>CI95%</th>\n",
       "      <th>cohen-d</th>\n",
       "      <th>BF10</th>\n",
       "      <th>power</th>\n",
       "    </tr>\n",
       "  </thead>\n",
       "  <tbody>\n",
       "    <tr>\n",
       "      <th>T-test</th>\n",
       "      <td>-0.394394</td>\n",
       "      <td>13.954575</td>\n",
       "      <td>two-sided</td>\n",
       "      <td>0.699252</td>\n",
       "      <td>[-1.83, 1.26]</td>\n",
       "      <td>0.167644</td>\n",
       "      <td>0.345</td>\n",
       "      <td>0.077503</td>\n",
       "    </tr>\n",
       "  </tbody>\n",
       "</table>\n",
       "</div>"
      ],
      "text/plain": [
       "               T        dof alternative     p-val          CI95%   cohen-d  \\\n",
       "T-test -0.394394  13.954575   two-sided  0.699252  [-1.83, 1.26]  0.167644   \n",
       "\n",
       "         BF10     power  \n",
       "T-test  0.345  0.077503  "
      ]
     },
     "execution_count": 47,
     "metadata": {},
     "output_type": "execute_result"
    }
   ],
   "source": [
    "# 두 집단의 평균에 대한 t검정\n",
    "import pingouin as pg\n",
    "\n",
    "pg.ttest(result3['norm_logpoint'], result5['norm_logpoint'], confidence=0.95) \n",
    "# H0: 두 집단(1~3점, 4~5점으로 분류된)의 제품 당 유의미한 리뷰의 수(tf-idf)의 차이가 없다\n",
    "# 난이도 분류에 따른 리뷰 내용 품질은 차이가 있다고 할 수 없다."
   ]
  }
 ],
 "metadata": {
  "kernelspec": {
   "display_name": "Python 3 (ipykernel)",
   "language": "python",
   "name": "python3"
  },
  "language_info": {
   "codemirror_mode": {
    "name": "ipython",
    "version": 3
   },
   "file_extension": ".py",
   "mimetype": "text/x-python",
   "name": "python",
   "nbconvert_exporter": "python",
   "pygments_lexer": "ipython3",
   "version": "3.9.12"
  },
  "toc": {
   "base_numbering": 1,
   "nav_menu": {},
   "number_sections": true,
   "sideBar": true,
   "skip_h1_title": false,
   "title_cell": "Table of Contents",
   "title_sidebar": "Contents",
   "toc_cell": false,
   "toc_position": {},
   "toc_section_display": true,
   "toc_window_display": false
  }
 },
 "nbformat": 4,
 "nbformat_minor": 5
}
