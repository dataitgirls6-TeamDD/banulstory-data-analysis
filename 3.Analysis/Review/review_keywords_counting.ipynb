{
 "cells": [
  {
   "cell_type": "markdown",
   "id": "0fc6411f",
   "metadata": {},
   "source": [
    "# <<리뷰 키워드 카운팅>>"
   ]
  },
  {
   "cell_type": "markdown",
   "id": "4ee07896",
   "metadata": {},
   "source": [
    "## 리뷰를 구성하는 형태소를 별도의 칼럼에 저장"
   ]
  },
  {
   "cell_type": "code",
   "execution_count": 1,
   "id": "57348cf2",
   "metadata": {},
   "outputs": [
    {
     "data": {
      "text/plain": [
       "True"
      ]
     },
     "execution_count": 1,
     "metadata": {},
     "output_type": "execute_result"
    }
   ],
   "source": [
    "import pandas as pd\n",
    "# 리뷰 데이터프레임 구축\n",
    "df = pd.read_csv('forDTM_review.csv')\n",
    "from kiwipiepy import Kiwi\n",
    "kiwi =Kiwi()\n",
    "# 고유명사 추가\n",
    "kiwi.add_user_word('김대리', 'NNP')\n",
    "\n",
    "\n"
   ]
  },
  {
   "cell_type": "code",
   "execution_count": 2,
   "id": "cb8d6de2",
   "metadata": {},
   "outputs": [],
   "source": [
    "morph_analysis = lambda x: kiwi.tokenize(x) if type(x) is str else None\n",
    "df['review_tokenize'] = df['review'].apply(morph_analysis)"
   ]
  },
  {
   "cell_type": "markdown",
   "id": "7cf85641",
   "metadata": {},
   "source": [
    "## 리뷰 형태소 칼럼 데이터 타입 변환"
   ]
  },
  {
   "cell_type": "code",
   "execution_count": 4,
   "id": "a6a03b93",
   "metadata": {},
   "outputs": [],
   "source": [
    "if type(df['review_tokenize']) != type(None):\n",
    "    df['review_tokenize']=','.join([str(x) for x in df['review_tokenize']])\n",
    "else:\n",
    "    pass"
   ]
  },
  {
   "cell_type": "markdown",
   "id": "289ed2ca",
   "metadata": {},
   "source": [
    "## 키워드 사전 만들기"
   ]
  },
  {
   "cell_type": "code",
   "execution_count": 14,
   "id": "7d8795cb",
   "metadata": {},
   "outputs": [],
   "source": [
    "사이즈 = ['볼', '부족', '개수', '사이즈', '굵기', '길이', '뭉치', '미니', '무게', '무게감', '두께', '크기', '용량','넉넉하', '모자라', '충분하', '알맞']\n",
    "\n",
    "색상 = [\"'색', tag='NNG'\", \"'색상', tag='NNG'\", \"'색깔', tag='NNG'\", \"'색감', tag='NNG'\",'배색’, ‘베이지’, ‘민트', '네이비', '노란색', '노랑', '그레이', '보라',  '갈색', '브라운', '블랙', '블루', '검은색', '그린', '색감', '색깔', '색도', '색상', '색실', '선명', '코코아', '무늬', '카키', '칼라', '컬러', '톤', '파스텔', '흰색', '핑크', '화이트', '회색', '아이보리', '레드', '라벤더', '에스프레소', '크림', '노랗', '빨갛', '붉', '파랗', '밝', '하얗',  '연하', '은은하', '짙']\n",
    "\n",
    "구매자상태 = ['입문', '입문자', '자신', '자신감', '삐뚤빼뚤', '처음', '첨', '초급', '초보', '초보자', '초짜', '손재주', '수준', '스트레스', '시도', '시작', '실력', '실수', '실패', '엉망',  '완벽', '왕초', '왕초보', '응용', '이해', '엄두', '생초보', '손땀', '똥손', '게으르', '겁먹', '헷갈리', '혼나', '화나', '빽빽하', '뻑뻑하', '어이없', '못하', '빡빡하', '바쁘', '헤매', '차분하', '짱박', '어설프', '소소하', '속상하', '심심하', '익숙하', '서툴', '아프', '서투르', '생각나', '배우', '꼬이', '끼우', '느리',  '다름없', '머뭇거리', '똑같', '달라지', '촘촘하']\n",
    "\n",
    "품질 = ['광택', '잔털', '보풀', '재질', '제거', '감촉', '제품', '고급', '사진', '촉감', '깔끔', '날림', '퀄리티', '소프트', '냄새', '화면', '면사', '먼지', '실물', '털', '털실', '품질', '질감', '쫀쫀', '차이', '타이트','느낌', '특성', '포장', '포장지', '코튼', '활용','실제', '가을', '겨울', '봄',  '거품', '단단하', '가늘', '갈라지', '거슬리', '견고하', '굵', '끊', '끊기', '끊어지', '느슨하', '도톰하', '들뜨', '흐물거리', '흘러나오', '흘러내리', '망가지', '멀쩡하', '얇', '얇아지', '미끄러지', '묵직하', '반짝거리', '반짝이', '헐렁하', '풀어지', '풀리', '포근하',  '저렴하', '튼실하', '튼튼하', '탄탄하', '따스하' '늘어나', '늘어지', '뻣뻣하', '따스하', '비싸', '비추' '약하', '시원하', '엉키', '거칠', '높이', '벗겨지', '들어가', '구하', '날리', '날아가', '다루', '다르', '닦이', '만지', '마르', '떨어지', '달라', '두툼하', '따갑']\n",
    "\n",
    "난이도 = ['반복','반응','방법','보통','부담', '적응', '결과물', '사슬', '초반', '초점', '기준', '기초', '긴뜨기', '난이도', '멘붕', '며칠', '매듭', '힘', '마무리', '마스터', '진도', '진행', '단계', '혼자', '테두리', '코바늘뜨기', '포기', '터득','완성', '한참','완료', '한길뜨기', '어려움'\n",
    ", '간단하', '간편하', '낑낑거리', '되감', '되살리', '따라오', '따라하', '때려치우', '막막하', '멈추', '복잡하', '수월하', '쉽', '어렵', '막히', '따라가', '그럴싸하', '잊어버리', '애먹',  '만드', '만들', '망치', '망하', '늘리', '겹치', '딸리', '끝나', '끝내', '나아지', '까먹', '미루', '맡기', '문제없', '들여다보']\n",
    "\n",
    "구성 = ['가성비', '강의', '재료', '제공', '종이', '구성', '첨부', '참고', '설명','설명서','세트', '패키지', '키트', '포함', '뒷면', '디자인', '디테일', '동영상', '도면', '도안', '영상', '재생', '자세',  '갖추', '상세하', '가르치', '자세하', '알려주', '알차', '세세하', '넘어가', '뿌옇', '고르', '벗어나']\n",
    "\n",
    "배송 = ['배송', '일정', '택배', '도착', '당일', '빠르']\n",
    "\n",
    "기타 = ['김대리', '인터넷', '보고','보도', '저번', '전화', '정도', '비교', '비닐', '개인', '거리','부분', '검색, ‘사각', '조합', '사람', '사서', '고리', '종일', '주말', '주문', '주변', '주위', '공장', '사용', '구멍', '상태', '사이트', '상품', '기간', '기법', '기본', '생활', '선생', '선택', '나머지',  '난리', '성품', '세상', '속도', '손가락', '손뜨개', '바닥', '박스', '바느질', '수고', '바늘', '물건', '문제', '모니터', '모양', '스타일', '시간', '사진', '매장', '실용', '실타래', '마지막', '후기', '아크릴', '안전', '안쪽', '품절', '리뷰', '라벨', '뜨개', '뜨개질', '뜨기', '약간', '뚜껑', '판매', '판매자', '어깨', '어머니', '돗바늘', '여유', '대비', '데일리', '연결', '연습', '추가', '옆면', '다양', '다운', '다음', '다음날', '다이소', '다행', '예상', '예전', '예정', '완성품', '요령', '표시', '의사', '이것저것', '이상', '이야기', '이용', '빼뜨기', '코드', '코바늘', '집콕', '타래', '하루', '호수', '확인', '사재기', '조절','깜찍하', '동그랗', '따듯하', '흔들리', '흔하', '흐트러지', '환하', '훌륭하', '헤지', '지저분하', '합치', '해내', '해보', '욕심나', '욕심내', '푸르', '틈나', '편하', '펼치', '친하', '커지', '키우', '탁하', '태어나', '터지', '통하', '틀어지', '추하', '찾아보', '채우', '챙기', '쳐다보', '착하', '찢어지', '지르', '지치', '진하', '질리', '짧아지', '찌르', '찍히', '찐하', '따라서', '줄어들', '쏠쏠하', '생색내', '적당하', '잘나', '잘리', '잠들', '잡히', '재우', '일어나', '자라', '자르', '익히', '이끌', '올라가', '올라오', '외우', '움직이', '원하', '여쭈', '엄청나', '어울리', '부탁드리', '알아보', '앞서', '쌓이', '쓰이', '씻기', '선선하', '비슷하', '네모나', '들고나']\n",
    "\n",
    "구매목적 = ['강아지', '인형', '가족', '임신', '목도리', '작업', '작품', '장식', '동생', '부탁', '뷔스티어', '블랭킷', '가방', '제작', '조끼', '구매', '구입', '생일', '선물', '설거지', '남자', '남편', '취미', '소품', '카디건', '친구', '태교', '수세미', '모자', '모티브', '스웨터', '스퀘어', '케이스', '파우치', '핸드폰', '아기', '아이', '휴가', '코로나', '필요', '딸', '딸아이', '지갑', '에어팟', '지인', '연말', '니트', '집중', '추천', '언니', '쁘띠', '티코스터', '카드지갑', '크로스백', '때우' '드리', '입히', '나누', '쉬']\n",
    "\n",
    "감정 = ['귀여움', '재미', '불편', '감사', '걱정', '고민', '굿', '기대', '기분', '최고', '끈기', '성공', '성취감', '친절', '무리', '행복', '후회', '매력', '힐링', '말씀', '맘', '만족', '아쉬움', '마음', '도움', '도전', '당황', '노력' , '괜찮', '귀여워하', '귀찮', '기뻐하', '기쁘', '나쁘', '난감하', '놀라', '놀래', '답답하', '도와주', '힘내', '힘들', '힘주', '흐뭇하', '예쁘', '재', '재미나', '재미있', '재밌', '좋', '좋아하', '못생기', '무난하', '멋지', '이쁘', '슬프', '지루하', '앙증맞', '심심하', '뿌듯하', '보람차', '지루하', '비싸', '비추', '즐기', '망설이', '정신없', '신기하', '신나', '싫', '앙증맞', '느끼', '심심하', '설레', '궁금하', '귀엽']"
   ]
  },
  {
   "cell_type": "markdown",
   "id": "33e672b1",
   "metadata": {},
   "source": [
    "## 리뷰 분석 위한 별도 데이터프레임 만들기"
   ]
  },
  {
   "cell_type": "code",
   "execution_count": 16,
   "id": "29560dc1",
   "metadata": {},
   "outputs": [],
   "source": [
    "rdf = df[['review_index','product_id','review','review_tokenize']]"
   ]
  },
  {
   "cell_type": "markdown",
   "id": "a9bbbfbd",
   "metadata": {},
   "source": [
    "## 항목 별 키워드 점수 측정을 위한 칼럼 추가"
   ]
  },
  {
   "cell_type": "code",
   "execution_count": 17,
   "id": "702f15e6",
   "metadata": {},
   "outputs": [],
   "source": [
    "pd.set_option('mode.chained_assignment',  None) # 경고 off\n",
    "\n",
    "rdf['사이즈']=0\n",
    "rdf['색상']=0\n",
    "rdf['구매자상태']=0\n",
    "rdf['품질']=0\n",
    "rdf['난이도']=0\n",
    "rdf['구성']=0\n",
    "rdf['배송']=0\n",
    "rdf['기타']=0\n",
    "rdf['구매목적']=0\n",
    "rdf['감정']=0\n"
   ]
  },
  {
   "cell_type": "code",
   "execution_count": 1,
   "id": "afb5e2f1",
   "metadata": {},
   "outputs": [],
   "source": [
    "rdf"
   ]
  },
  {
   "cell_type": "code",
   "execution_count": 19,
   "id": "a7df0008",
   "metadata": {},
   "outputs": [],
   "source": [
    "# 사이즈 안에 있는 키워드들이 토큰 칼럼에 포함되어 있으면 사이즈 칼럼에 1을 더한다.\n",
    "for i in range(0, len(rdf)):\n",
    "            for a in 사이즈:\n",
    "                if type(rdf['review_tokenize'][i]) != type(None):\n",
    "                    if a in ','.join([str(x) for x in rdf['review_tokenize'][i]]):\n",
    "                         rdf['사이즈'][i]= rdf['사이즈'][i]+1\n",
    "\n",
    "                    else: \n",
    "                        pass"
   ]
  },
  {
   "cell_type": "code",
   "execution_count": 20,
   "id": "fded3419",
   "metadata": {},
   "outputs": [],
   "source": [
    "# 색상 안에 있는 키워드들이 토큰 칼럼에 포함되어 있으면 색상 칼럼에 1을 더한다.\n",
    "for i in range(0, len(rdf)):\n",
    "            for a in 색상:\n",
    "                if type(rdf['review_tokenize'][i]) != type(None):\n",
    "                    if a in ','.join([str(x) for x in rdf['review_tokenize'][i]]):\n",
    "                         rdf['색상'][i]= rdf['색상'][i]+1\n",
    "\n",
    "                    else: \n",
    "                        pass"
   ]
  },
  {
   "cell_type": "code",
   "execution_count": 21,
   "id": "e05c524b",
   "metadata": {},
   "outputs": [],
   "source": [
    "# 구매자상태 안에 있는 키워드들이 토큰 칼럼에 포함되어 있으면 구매자상태 칼럼에 1을 더한다.\n",
    "for i in range(0, len(rdf)):\n",
    "            for a in 구매자상태:\n",
    "                if type(rdf['review_tokenize'][i]) != type(None):\n",
    "                    if a in ','.join([str(x) for x in rdf['review_tokenize'][i]]):\n",
    "                         rdf['구매자상태'][i]= rdf['구매자상태'][i]+1\n",
    "\n",
    "                    else: \n",
    "                        pass"
   ]
  },
  {
   "cell_type": "code",
   "execution_count": 22,
   "id": "246c78e8",
   "metadata": {},
   "outputs": [],
   "source": [
    "# 품질 안에 있는 키워드들이 토큰 칼럼에 포함되어 있으면 품질 칼럼에 1을 더한다.\n",
    "for i in range(0, len(rdf)):\n",
    "            for a in 품질:\n",
    "                if type(rdf['review_tokenize'][i]) != type(None):\n",
    "                    if a in ','.join([str(x) for x in rdf['review_tokenize'][i]]):\n",
    "                         rdf['품질'][i]= rdf['품질'][i]+1\n",
    "\n",
    "                    else: \n",
    "                        pass"
   ]
  },
  {
   "cell_type": "code",
   "execution_count": 23,
   "id": "2c1292ed",
   "metadata": {},
   "outputs": [],
   "source": [
    "# 난이도 안에 있는 키워드들이 토큰 칼럼에 포함되어 있으면 난이도 칼럼에 1을 더한다.\n",
    "for i in range(0, len(rdf)):\n",
    "            for a in 난이도:\n",
    "                if type(rdf['review_tokenize'][i]) != type(None):\n",
    "                    if a in ','.join([str(x) for x in rdf['review_tokenize'][i]]):\n",
    "                         rdf['난이도'][i]= rdf['난이도'][i]+1\n",
    "\n",
    "                    else: \n",
    "                        pass"
   ]
  },
  {
   "cell_type": "code",
   "execution_count": 24,
   "id": "237ec097",
   "metadata": {},
   "outputs": [],
   "source": [
    "# 구성 안에 있는 키워드들이 토큰 칼럼에 포함되어 있으면 구성 칼럼에 1을 더한다.\n",
    "for i in range(0, len(rdf)):\n",
    "            for a in 구성:\n",
    "                if type(rdf['review_tokenize'][i]) != type(None):\n",
    "                    if a in ','.join([str(x) for x in rdf['review_tokenize'][i]]):\n",
    "                         rdf['구성'][i]= rdf['구성'][i]+1\n",
    "\n",
    "                    else: \n",
    "                        pass"
   ]
  },
  {
   "cell_type": "code",
   "execution_count": 25,
   "id": "ffb6605b",
   "metadata": {},
   "outputs": [],
   "source": [
    "# 배송 안에 있는 키워드들이 품질 칼럼에 포함되어 있으면 배송 칼럼에 1을 더한다.\n",
    "\n",
    "for i in range(0, len(rdf)):\n",
    "            for a in 배송:\n",
    "                if type(rdf['review_tokenize'][i]) != type(None):\n",
    "                    if a in ','.join([str(x) for x in rdf['review_tokenize'][i]]):\n",
    "                         rdf['배송'][i]= rdf['배송'][i]+1\n",
    "\n",
    "                    else: \n",
    "                        pass\n"
   ]
  },
  {
   "cell_type": "code",
   "execution_count": 26,
   "id": "77b710c9",
   "metadata": {},
   "outputs": [],
   "source": [
    "# 기타 안에 있는 키워드들이 품질 칼럼에 포함되어 있으면 기타 칼럼에 1을 더한다.\n",
    "\n",
    "for i in range(0, len(rdf)):\n",
    "            for a in 기타:\n",
    "                if type(rdf['review_tokenize'][i]) != type(None):\n",
    "                    if a in ','.join([str(x) for x in rdf['review_tokenize'][i]]):\n",
    "                         rdf['기타'][i]= rdf['기타'][i]+1\n",
    "\n",
    "                    else: \n",
    "                        pass\n",
    "\n"
   ]
  },
  {
   "cell_type": "code",
   "execution_count": 107,
   "id": "c36b0805",
   "metadata": {},
   "outputs": [],
   "source": [
    "# 구매목적 안에 있는 키워드들이 품질 칼럼에 포함되어 있으면 구매목적 칼럼에 1을 더한다.\n",
    "\n",
    "for i in range(0, len(rdf)):\n",
    "            for a in 구매목적:\n",
    "                if type(rdf['review_tokenize'][i]) != type(None):\n",
    "                    if a in ','.join([str(x) for x in rdf['review_tokenize'][i]]):\n",
    "                         rdf['구매목적'][i]= rdf['구매목적'][i]+1\n",
    "\n",
    "                    else: \n",
    "                        pass\n",
    "\n"
   ]
  },
  {
   "cell_type": "code",
   "execution_count": 27,
   "id": "bac947ff",
   "metadata": {},
   "outputs": [],
   "source": [
    "# 감정 안에 있는 키워드들이 품질 칼럼에 포함되어 있으면 감정 칼럼에 1을 더한다.\n",
    "\n",
    "for i in range(0, len(rdf)):\n",
    "            for a in 감정:\n",
    "                if type(rdf['review_tokenize'][i]) != type(None):\n",
    "                    if a in ','.join([str(x) for x in rdf['review_tokenize'][i]]):\n",
    "                         rdf['감정'][i]= rdf['감정'][i]+1\n",
    "\n",
    "                    else: \n",
    "                        pass\n",
    "\n"
   ]
  },
  {
   "cell_type": "markdown",
   "id": "51befc27",
   "metadata": {},
   "source": [
    "## 최종 리뷰 키워드 데이터 저장 및 읽기"
   ]
  },
  {
   "cell_type": "code",
   "execution_count": 37,
   "id": "3d1ad54e",
   "metadata": {},
   "outputs": [],
   "source": [
    "\n",
    "import pickle\n",
    "with open('review_extraction.pkl', 'wb') as f:\n",
    "    pickle.dump(rdf, f, protocol=pickle.HIGHEST_PROTOCOL)\n",
    "    "
   ]
  },
  {
   "cell_type": "code",
   "execution_count": 38,
   "id": "3082d38c",
   "metadata": {},
   "outputs": [],
   "source": [
    "\n",
    "with open('review_extraction.pkl', 'rb') as f:\n",
    "    review_keyword = pickle.load(f)"
   ]
  },
  {
   "cell_type": "code",
   "execution_count": 40,
   "id": "4a4d85e0",
   "metadata": {},
   "outputs": [],
   "source": [
    "review_keyword"
   ]
  },
  {
   "cell_type": "code",
   "execution_count": null,
   "id": "9e96ac63",
   "metadata": {},
   "outputs": [],
   "source": []
  }
 ],
 "metadata": {
  "kernelspec": {
   "display_name": "Python 3 (ipykernel)",
   "language": "python",
   "name": "python3"
  },
  "language_info": {
   "codemirror_mode": {
    "name": "ipython",
    "version": 3
   },
   "file_extension": ".py",
   "mimetype": "text/x-python",
   "name": "python",
   "nbconvert_exporter": "python",
   "pygments_lexer": "ipython3",
   "version": "3.9.12"
  }
 },
 "nbformat": 4,
 "nbformat_minor": 5
}
